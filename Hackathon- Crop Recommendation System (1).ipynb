{
 "cells": [
  {
   "cell_type": "code",
   "execution_count": 1,
   "metadata": {},
   "outputs": [],
   "source": [
    "#Importing the libraires\n",
    "import tensorflow as tf\n",
    "from tensorflow.keras.layers import Dense, BatchNormalization, Dropout, Input\n",
    "from tensorflow.keras.models import Sequential, load_model\n",
    "import numpy as np\n",
    "import pandas as pd\n",
    "import matplotlib.pyplot as plt\n",
    "%matplotlib inline\n",
    "import os"
   ]
  },
  {
   "cell_type": "code",
   "execution_count": 38,
   "metadata": {},
   "outputs": [
    {
     "data": {
      "text/html": [
       "<div>\n",
       "<style scoped>\n",
       "    .dataframe tbody tr th:only-of-type {\n",
       "        vertical-align: middle;\n",
       "    }\n",
       "\n",
       "    .dataframe tbody tr th {\n",
       "        vertical-align: top;\n",
       "    }\n",
       "\n",
       "    .dataframe thead th {\n",
       "        text-align: right;\n",
       "    }\n",
       "</style>\n",
       "<table border=\"1\" class=\"dataframe\">\n",
       "  <thead>\n",
       "    <tr style=\"text-align: right;\">\n",
       "      <th></th>\n",
       "      <th>N</th>\n",
       "      <th>P</th>\n",
       "      <th>K</th>\n",
       "      <th>temperature</th>\n",
       "      <th>humidity</th>\n",
       "      <th>ph</th>\n",
       "      <th>rainfall</th>\n",
       "      <th>label</th>\n",
       "      <th>Season</th>\n",
       "    </tr>\n",
       "  </thead>\n",
       "  <tbody>\n",
       "    <tr>\n",
       "      <th>0</th>\n",
       "      <td>73</td>\n",
       "      <td>57</td>\n",
       "      <td>44</td>\n",
       "      <td>20.879744</td>\n",
       "      <td>82.002744</td>\n",
       "      <td>6.502985</td>\n",
       "      <td>202.935536</td>\n",
       "      <td>rice</td>\n",
       "      <td>Kharif</td>\n",
       "    </tr>\n",
       "    <tr>\n",
       "      <th>1</th>\n",
       "      <td>74</td>\n",
       "      <td>57</td>\n",
       "      <td>44</td>\n",
       "      <td>21.770462</td>\n",
       "      <td>80.319644</td>\n",
       "      <td>7.038096</td>\n",
       "      <td>226.655537</td>\n",
       "      <td>rice</td>\n",
       "      <td>Kharif</td>\n",
       "    </tr>\n",
       "    <tr>\n",
       "      <th>2</th>\n",
       "      <td>92</td>\n",
       "      <td>41</td>\n",
       "      <td>38</td>\n",
       "      <td>23.004459</td>\n",
       "      <td>82.320763</td>\n",
       "      <td>7.840207</td>\n",
       "      <td>263.964248</td>\n",
       "      <td>rice</td>\n",
       "      <td>Kharif</td>\n",
       "    </tr>\n",
       "    <tr>\n",
       "      <th>3</th>\n",
       "      <td>68</td>\n",
       "      <td>44</td>\n",
       "      <td>38</td>\n",
       "      <td>26.491096</td>\n",
       "      <td>80.158363</td>\n",
       "      <td>6.980401</td>\n",
       "      <td>242.864034</td>\n",
       "      <td>rice</td>\n",
       "      <td>Kharif</td>\n",
       "    </tr>\n",
       "    <tr>\n",
       "      <th>4</th>\n",
       "      <td>66</td>\n",
       "      <td>36</td>\n",
       "      <td>40</td>\n",
       "      <td>20.130175</td>\n",
       "      <td>81.604873</td>\n",
       "      <td>7.628473</td>\n",
       "      <td>262.717340</td>\n",
       "      <td>rice</td>\n",
       "      <td>Kharif</td>\n",
       "    </tr>\n",
       "  </tbody>\n",
       "</table>\n",
       "</div>"
      ],
      "text/plain": [
       "    N   P   K  temperature   humidity        ph    rainfall label  Season\n",
       "0  73  57  44    20.879744  82.002744  6.502985  202.935536  rice  Kharif\n",
       "1  74  57  44    21.770462  80.319644  7.038096  226.655537  rice  Kharif\n",
       "2  92  41  38    23.004459  82.320763  7.840207  263.964248  rice  Kharif\n",
       "3  68  44  38    26.491096  80.158363  6.980401  242.864034  rice  Kharif\n",
       "4  66  36  40    20.130175  81.604873  7.628473  262.717340  rice  Kharif"
      ]
     },
     "execution_count": 38,
     "metadata": {},
     "output_type": "execute_result"
    }
   ],
   "source": [
    "#Loading the data\n",
    "df = pd.read_csv(\"FinalData.csv\")\n",
    "#checking first five rows\n",
    "df.head()"
   ]
  },
  {
   "cell_type": "code",
   "execution_count": 39,
   "metadata": {},
   "outputs": [
    {
     "data": {
      "text/plain": [
       "Index(['N', 'P', 'K', 'temperature', 'humidity', 'ph', 'rainfall', 'label',\n",
       "       'Season'],\n",
       "      dtype='object')"
      ]
     },
     "execution_count": 39,
     "metadata": {},
     "output_type": "execute_result"
    }
   ],
   "source": [
    "#dataframe columns \n",
    "df.columns"
   ]
  },
  {
   "cell_type": "code",
   "execution_count": 40,
   "metadata": {},
   "outputs": [
    {
     "data": {
      "text/plain": [
       "Kharif         1300\n",
       "Rabi            700\n",
       "All Seasons     200\n",
       "Name: Season, dtype: int64"
      ]
     },
     "execution_count": 40,
     "metadata": {},
     "output_type": "execute_result"
    }
   ],
   "source": [
    "#Season column's elements value counts\n",
    "df['Season'].value_counts()"
   ]
  },
  {
   "cell_type": "code",
   "execution_count": 41,
   "metadata": {
    "scrolled": true
   },
   "outputs": [],
   "source": [
    "#Label coding\n",
    "df['Season'] = df['Season'].map({\n",
    "    'Kharif':0,'Rabi':1,'All Seasons':2\n",
    "})"
   ]
  },
  {
   "cell_type": "code",
   "execution_count": 42,
   "metadata": {},
   "outputs": [
    {
     "data": {
      "text/plain": [
       "\"\\ndf['label'] = df['label'].map({\\n'banana':0,\\n'papaya':1,  \\n'pomegranate':2,    \\n'lentil':3,         \\n'chickpea':4,       \\n'blackgram':5,     \\n'mango':6,         \\n'mothbeans':7,      \\n'maize':8,         \\n'kidneybeans':9,   \\n'jute':10,         \\n'rice':11,         \\n'cotton':12,       \\n'mungbean':13,     \\n'watermelon':14,     \\n'apple':15,          \\n'coffee':16,         \\n'muskmelon':17,      \\n'orange':18,         \\n'grapes':19,         \\n'pigeonpeas':20,\\n'coconut':21\\n    \\n})\\n\""
      ]
     },
     "execution_count": 42,
     "metadata": {},
     "output_type": "execute_result"
    }
   ],
   "source": [
    "\"\"\"\n",
    "df['label'] = df['label'].map({\n",
    "'banana':0,\n",
    "'papaya':1,  \n",
    "'pomegranate':2,    \n",
    "'lentil':3,         \n",
    "'chickpea':4,       \n",
    "'blackgram':5,     \n",
    "'mango':6,         \n",
    "'mothbeans':7,      \n",
    "'maize':8,         \n",
    "'kidneybeans':9,   \n",
    "'jute':10,         \n",
    "'rice':11,         \n",
    "'cotton':12,       \n",
    "'mungbean':13,     \n",
    "'watermelon':14,     \n",
    "'apple':15,          \n",
    "'coffee':16,         \n",
    "'muskmelon':17,      \n",
    "'orange':18,         \n",
    "'grapes':19,         \n",
    "'pigeonpeas':20,\n",
    "'coconut':21\n",
    "    \n",
    "})\n",
    "\"\"\""
   ]
  },
  {
   "cell_type": "code",
   "execution_count": 43,
   "metadata": {},
   "outputs": [
    {
     "data": {
      "text/html": [
       "<div>\n",
       "<style scoped>\n",
       "    .dataframe tbody tr th:only-of-type {\n",
       "        vertical-align: middle;\n",
       "    }\n",
       "\n",
       "    .dataframe tbody tr th {\n",
       "        vertical-align: top;\n",
       "    }\n",
       "\n",
       "    .dataframe thead th {\n",
       "        text-align: right;\n",
       "    }\n",
       "</style>\n",
       "<table border=\"1\" class=\"dataframe\">\n",
       "  <thead>\n",
       "    <tr style=\"text-align: right;\">\n",
       "      <th></th>\n",
       "      <th>N</th>\n",
       "      <th>P</th>\n",
       "      <th>K</th>\n",
       "      <th>temperature</th>\n",
       "      <th>humidity</th>\n",
       "      <th>ph</th>\n",
       "      <th>rainfall</th>\n",
       "      <th>Season</th>\n",
       "      <th>label_apple</th>\n",
       "      <th>label_banana</th>\n",
       "      <th>...</th>\n",
       "      <th>label_mango</th>\n",
       "      <th>label_mothbeans</th>\n",
       "      <th>label_mungbean</th>\n",
       "      <th>label_muskmelon</th>\n",
       "      <th>label_orange</th>\n",
       "      <th>label_papaya</th>\n",
       "      <th>label_pigeonpeas</th>\n",
       "      <th>label_pomegranate</th>\n",
       "      <th>label_rice</th>\n",
       "      <th>label_watermelon</th>\n",
       "    </tr>\n",
       "  </thead>\n",
       "  <tbody>\n",
       "    <tr>\n",
       "      <th>0</th>\n",
       "      <td>73</td>\n",
       "      <td>57</td>\n",
       "      <td>44</td>\n",
       "      <td>20.879744</td>\n",
       "      <td>82.002744</td>\n",
       "      <td>6.502985</td>\n",
       "      <td>202.935536</td>\n",
       "      <td>0</td>\n",
       "      <td>0</td>\n",
       "      <td>0</td>\n",
       "      <td>...</td>\n",
       "      <td>0</td>\n",
       "      <td>0</td>\n",
       "      <td>0</td>\n",
       "      <td>0</td>\n",
       "      <td>0</td>\n",
       "      <td>0</td>\n",
       "      <td>0</td>\n",
       "      <td>0</td>\n",
       "      <td>1</td>\n",
       "      <td>0</td>\n",
       "    </tr>\n",
       "    <tr>\n",
       "      <th>1</th>\n",
       "      <td>74</td>\n",
       "      <td>57</td>\n",
       "      <td>44</td>\n",
       "      <td>21.770462</td>\n",
       "      <td>80.319644</td>\n",
       "      <td>7.038096</td>\n",
       "      <td>226.655537</td>\n",
       "      <td>0</td>\n",
       "      <td>0</td>\n",
       "      <td>0</td>\n",
       "      <td>...</td>\n",
       "      <td>0</td>\n",
       "      <td>0</td>\n",
       "      <td>0</td>\n",
       "      <td>0</td>\n",
       "      <td>0</td>\n",
       "      <td>0</td>\n",
       "      <td>0</td>\n",
       "      <td>0</td>\n",
       "      <td>1</td>\n",
       "      <td>0</td>\n",
       "    </tr>\n",
       "    <tr>\n",
       "      <th>2</th>\n",
       "      <td>92</td>\n",
       "      <td>41</td>\n",
       "      <td>38</td>\n",
       "      <td>23.004459</td>\n",
       "      <td>82.320763</td>\n",
       "      <td>7.840207</td>\n",
       "      <td>263.964248</td>\n",
       "      <td>0</td>\n",
       "      <td>0</td>\n",
       "      <td>0</td>\n",
       "      <td>...</td>\n",
       "      <td>0</td>\n",
       "      <td>0</td>\n",
       "      <td>0</td>\n",
       "      <td>0</td>\n",
       "      <td>0</td>\n",
       "      <td>0</td>\n",
       "      <td>0</td>\n",
       "      <td>0</td>\n",
       "      <td>1</td>\n",
       "      <td>0</td>\n",
       "    </tr>\n",
       "    <tr>\n",
       "      <th>3</th>\n",
       "      <td>68</td>\n",
       "      <td>44</td>\n",
       "      <td>38</td>\n",
       "      <td>26.491096</td>\n",
       "      <td>80.158363</td>\n",
       "      <td>6.980401</td>\n",
       "      <td>242.864034</td>\n",
       "      <td>0</td>\n",
       "      <td>0</td>\n",
       "      <td>0</td>\n",
       "      <td>...</td>\n",
       "      <td>0</td>\n",
       "      <td>0</td>\n",
       "      <td>0</td>\n",
       "      <td>0</td>\n",
       "      <td>0</td>\n",
       "      <td>0</td>\n",
       "      <td>0</td>\n",
       "      <td>0</td>\n",
       "      <td>1</td>\n",
       "      <td>0</td>\n",
       "    </tr>\n",
       "    <tr>\n",
       "      <th>4</th>\n",
       "      <td>66</td>\n",
       "      <td>36</td>\n",
       "      <td>40</td>\n",
       "      <td>20.130175</td>\n",
       "      <td>81.604873</td>\n",
       "      <td>7.628473</td>\n",
       "      <td>262.717340</td>\n",
       "      <td>0</td>\n",
       "      <td>0</td>\n",
       "      <td>0</td>\n",
       "      <td>...</td>\n",
       "      <td>0</td>\n",
       "      <td>0</td>\n",
       "      <td>0</td>\n",
       "      <td>0</td>\n",
       "      <td>0</td>\n",
       "      <td>0</td>\n",
       "      <td>0</td>\n",
       "      <td>0</td>\n",
       "      <td>1</td>\n",
       "      <td>0</td>\n",
       "    </tr>\n",
       "  </tbody>\n",
       "</table>\n",
       "<p>5 rows × 30 columns</p>\n",
       "</div>"
      ],
      "text/plain": [
       "    N   P   K  temperature   humidity        ph    rainfall  Season  \\\n",
       "0  73  57  44    20.879744  82.002744  6.502985  202.935536       0   \n",
       "1  74  57  44    21.770462  80.319644  7.038096  226.655537       0   \n",
       "2  92  41  38    23.004459  82.320763  7.840207  263.964248       0   \n",
       "3  68  44  38    26.491096  80.158363  6.980401  242.864034       0   \n",
       "4  66  36  40    20.130175  81.604873  7.628473  262.717340       0   \n",
       "\n",
       "   label_apple  label_banana  ...  label_mango  label_mothbeans  \\\n",
       "0            0             0  ...            0                0   \n",
       "1            0             0  ...            0                0   \n",
       "2            0             0  ...            0                0   \n",
       "3            0             0  ...            0                0   \n",
       "4            0             0  ...            0                0   \n",
       "\n",
       "   label_mungbean  label_muskmelon  label_orange  label_papaya  \\\n",
       "0               0                0             0             0   \n",
       "1               0                0             0             0   \n",
       "2               0                0             0             0   \n",
       "3               0                0             0             0   \n",
       "4               0                0             0             0   \n",
       "\n",
       "   label_pigeonpeas  label_pomegranate  label_rice  label_watermelon  \n",
       "0                 0                  0           1                 0  \n",
       "1                 0                  0           1                 0  \n",
       "2                 0                  0           1                 0  \n",
       "3                 0                  0           1                 0  \n",
       "4                 0                  0           1                 0  \n",
       "\n",
       "[5 rows x 30 columns]"
      ]
     },
     "execution_count": 43,
     "metadata": {},
     "output_type": "execute_result"
    }
   ],
   "source": [
    "#one hot encoding\n",
    "df = pd.get_dummies(df)\n",
    "df.head()"
   ]
  },
  {
   "cell_type": "code",
   "execution_count": 44,
   "metadata": {},
   "outputs": [
    {
     "data": {
      "text/plain": [
       "Index(['N', 'P', 'K', 'temperature', 'humidity', 'ph', 'rainfall', 'Season',\n",
       "       'label_apple', 'label_banana', 'label_blackgram', 'label_chickpea',\n",
       "       'label_coconut', 'label_coffee', 'label_cotton', 'label_grapes',\n",
       "       'label_jute', 'label_kidneybeans', 'label_lentil', 'label_maize',\n",
       "       'label_mango', 'label_mothbeans', 'label_mungbean', 'label_muskmelon',\n",
       "       'label_orange', 'label_papaya', 'label_pigeonpeas', 'label_pomegranate',\n",
       "       'label_rice', 'label_watermelon'],\n",
       "      dtype='object')"
      ]
     },
     "execution_count": 44,
     "metadata": {},
     "output_type": "execute_result"
    }
   ],
   "source": [
    "#Checking coloumns new\n",
    "df.columns"
   ]
  },
  {
   "cell_type": "code",
   "execution_count": 45,
   "metadata": {},
   "outputs": [],
   "source": [
    "#importing train test split\n",
    "from sklearn.model_selection import train_test_split\n",
    "\n",
    "#independent variable\n",
    "X = df[['N', 'P', 'K', 'temperature', 'humidity', 'ph', 'rainfall','Season']]\n",
    "\n",
    "#y = df['label']"
   ]
  },
  {
   "cell_type": "code",
   "execution_count": 46,
   "metadata": {},
   "outputs": [],
   "source": [
    "#dependent variable\n",
    "y = df[['label_apple', 'label_banana',\n",
    "        'label_blackgram', 'label_chickpea', 'label_coconut', 'label_coffee',\n",
    "        'label_cotton', 'label_grapes', 'label_jute', 'label_kidneybeans',\n",
    "        'label_lentil', 'label_maize', 'label_mango', 'label_mothbeans',\n",
    "        'label_mungbean', 'label_muskmelon', 'label_orange', 'label_papaya',\n",
    "        'label_pigeonpeas', 'label_pomegranate', 'label_rice',\n",
    "        'label_watermelon']]"
   ]
  },
  {
   "cell_type": "code",
   "execution_count": 47,
   "metadata": {},
   "outputs": [
    {
     "data": {
      "text/plain": [
       "((1760, 8), (1760, 22), (440, 8), (440, 22))"
      ]
     },
     "execution_count": 47,
     "metadata": {},
     "output_type": "execute_result"
    }
   ],
   "source": [
    "#splitting into train and test\n",
    "X_train, X_test, y_train, y_test = train_test_split(X, y, test_size=0.20, random_state=42)\n",
    "X_train.shape, y_train.shape, X_test.shape, y_test.shape"
   ]
  },
  {
   "cell_type": "code",
   "execution_count": 51,
   "metadata": {},
   "outputs": [],
   "source": [
    "#building the model\n",
    "def get_model_mlp():\n",
    "    model = Sequential([\n",
    "        Input(shape=[len(X_train.keys())]),\n",
    "        Dense(128, activation= 'relu'),\n",
    "        Dense(64,activation='relu'),\n",
    "        Dense(32,activation='relu'),\n",
    "        Dense(len(y_train.keys()),activation='softmax')        \n",
    "    ])\n",
    "    #compiling the model\n",
    "    #opt = tf.keras.optimizers.Adam()\n",
    "    #loss = tf.keras.losses.categorical_crossentropy()\n",
    "    #metrics = tf.keras.metrics.Accuracy()\n",
    "    model.compile(optimizer='adam', loss='categorical_crossentropy', metrics=['acc'])\n",
    "    return model"
   ]
  },
  {
   "cell_type": "code",
   "execution_count": 52,
   "metadata": {},
   "outputs": [
    {
     "name": "stdout",
     "output_type": "stream",
     "text": [
      "Model: \"sequential_3\"\n",
      "_________________________________________________________________\n",
      "Layer (type)                 Output Shape              Param #   \n",
      "=================================================================\n",
      "dense_12 (Dense)             (None, 128)               1152      \n",
      "_________________________________________________________________\n",
      "dense_13 (Dense)             (None, 64)                8256      \n",
      "_________________________________________________________________\n",
      "dense_14 (Dense)             (None, 32)                2080      \n",
      "_________________________________________________________________\n",
      "dense_15 (Dense)             (None, 22)                726       \n",
      "=================================================================\n",
      "Total params: 12,214\n",
      "Trainable params: 12,214\n",
      "Non-trainable params: 0\n",
      "_________________________________________________________________\n"
     ]
    }
   ],
   "source": [
    "#model calling\n",
    "model = get_model_mlp()\n",
    "#model summary\n",
    "model.summary()"
   ]
  },
  {
   "cell_type": "code",
   "execution_count": 53,
   "metadata": {},
   "outputs": [
    {
     "name": "stdout",
     "output_type": "stream",
     "text": [
      "Train on 1760 samples, validate on 440 samples\n",
      "Epoch 1/10\n",
      "1760/1760 [==============================] - 2s 946us/sample - loss: 3.5301 - acc: 0.3500 - val_loss: 1.1777 - val_acc: 0.6500\n",
      "Epoch 2/10\n",
      "1760/1760 [==============================] - 0s 139us/sample - loss: 0.8396 - acc: 0.7761 - val_loss: 0.5867 - val_acc: 0.8114\n",
      "Epoch 3/10\n",
      "1760/1760 [==============================] - 0s 265us/sample - loss: 0.4352 - acc: 0.8864 - val_loss: 0.3298 - val_acc: 0.9205\n",
      "Epoch 4/10\n",
      "1760/1760 [==============================] - 0s 179us/sample - loss: 0.2939 - acc: 0.9216 - val_loss: 0.2509 - val_acc: 0.9318\n",
      "Epoch 5/10\n",
      "1760/1760 [==============================] - 0s 143us/sample - loss: 0.2244 - acc: 0.9352 - val_loss: 0.3380 - val_acc: 0.8932\n",
      "Epoch 6/10\n",
      "1760/1760 [==============================] - 0s 204us/sample - loss: 0.2287 - acc: 0.9250 - val_loss: 0.2113 - val_acc: 0.9455\n",
      "Epoch 7/10\n",
      "1760/1760 [==============================] - 0s 160us/sample - loss: 0.2065 - acc: 0.9330 - val_loss: 0.1852 - val_acc: 0.9364\n",
      "Epoch 8/10\n",
      "1760/1760 [==============================] - 0s 158us/sample - loss: 0.1566 - acc: 0.9466 - val_loss: 0.1684 - val_acc: 0.9455\n",
      "Epoch 9/10\n",
      "1760/1760 [==============================] - 0s 167us/sample - loss: 0.1580 - acc: 0.9449 - val_loss: 0.1812 - val_acc: 0.9295\n",
      "Epoch 10/10\n",
      "1760/1760 [==============================] - 0s 149us/sample - loss: 0.1429 - acc: 0.9466 - val_loss: 0.1577 - val_acc: 0.9364\n",
      "Train on 1760 samples, validate on 440 samples\n",
      "Epoch 1/10\n",
      "1760/1760 [==============================] - 0s 177us/sample - loss: 0.1396 - acc: 0.9517 - val_loss: 0.1693 - val_acc: 0.9318\n",
      "Epoch 2/10\n",
      "1760/1760 [==============================] - 0s 199us/sample - loss: 0.1472 - acc: 0.9483 - val_loss: 0.1404 - val_acc: 0.9477\n",
      "Epoch 3/10\n",
      "1760/1760 [==============================] - 0s 208us/sample - loss: 0.1479 - acc: 0.9500 - val_loss: 0.1521 - val_acc: 0.9409\n",
      "Epoch 4/10\n",
      "1760/1760 [==============================] - 0s 244us/sample - loss: 0.1374 - acc: 0.9483 - val_loss: 0.1813 - val_acc: 0.9409\n",
      "Epoch 5/10\n",
      "1760/1760 [==============================] - 0s 178us/sample - loss: 0.1217 - acc: 0.9511 - val_loss: 0.1326 - val_acc: 0.9477\n",
      "Epoch 6/10\n",
      "1760/1760 [==============================] - 0s 141us/sample - loss: 0.0989 - acc: 0.9625 - val_loss: 0.1241 - val_acc: 0.9500\n",
      "Epoch 7/10\n",
      "1760/1760 [==============================] - 0s 151us/sample - loss: 0.1392 - acc: 0.9432 - val_loss: 0.1175 - val_acc: 0.9455\n",
      "Epoch 8/10\n",
      "1760/1760 [==============================] - 0s 133us/sample - loss: 0.1194 - acc: 0.9557 - val_loss: 0.1118 - val_acc: 0.9568\n",
      "Epoch 9/10\n",
      "1760/1760 [==============================] - 0s 155us/sample - loss: 0.1075 - acc: 0.9585 - val_loss: 0.1218 - val_acc: 0.9523\n",
      "Epoch 10/10\n",
      "1760/1760 [==============================] - 0s 144us/sample - loss: 0.1063 - acc: 0.9591 - val_loss: 0.1103 - val_acc: 0.9614\n",
      "Train on 1760 samples, validate on 440 samples\n",
      "Epoch 1/10\n",
      "1760/1760 [==============================] - 0s 136us/sample - loss: 0.0951 - acc: 0.9653 - val_loss: 0.1065 - val_acc: 0.9568\n",
      "Epoch 2/10\n",
      "1760/1760 [==============================] - 0s 133us/sample - loss: 0.0907 - acc: 0.9642 - val_loss: 0.1555 - val_acc: 0.9409\n",
      "Epoch 3/10\n",
      "1760/1760 [==============================] - ETA: 0s - loss: 0.0976 - acc: 0.960 - 0s 138us/sample - loss: 0.0989 - acc: 0.9602 - val_loss: 0.1466 - val_acc: 0.9295\n",
      "Epoch 4/10\n",
      "1760/1760 [==============================] - 0s 145us/sample - loss: 0.1064 - acc: 0.9580 - val_loss: 0.1194 - val_acc: 0.9545\n",
      "Epoch 5/10\n",
      "1760/1760 [==============================] - 0s 129us/sample - loss: 0.1234 - acc: 0.9523 - val_loss: 0.1210 - val_acc: 0.9545\n",
      "Epoch 6/10\n",
      "1760/1760 [==============================] - 0s 123us/sample - loss: 0.0931 - acc: 0.9619 - val_loss: 0.0930 - val_acc: 0.9659\n",
      "Epoch 7/10\n",
      "1760/1760 [==============================] - 0s 122us/sample - loss: 0.1092 - acc: 0.9597 - val_loss: 0.1245 - val_acc: 0.9477\n",
      "Epoch 8/10\n",
      "1760/1760 [==============================] - 0s 132us/sample - loss: 0.0897 - acc: 0.9597 - val_loss: 0.1021 - val_acc: 0.9500\n",
      "Epoch 9/10\n",
      "1760/1760 [==============================] - 0s 139us/sample - loss: 0.0913 - acc: 0.9631 - val_loss: 0.1072 - val_acc: 0.9545\n",
      "Epoch 10/10\n",
      "1760/1760 [==============================] - 0s 122us/sample - loss: 0.0914 - acc: 0.9648 - val_loss: 0.1143 - val_acc: 0.9500\n",
      "Train on 1760 samples, validate on 440 samples\n",
      "Epoch 1/10\n",
      "1760/1760 [==============================] - 0s 124us/sample - loss: 0.2877 - acc: 0.9386 - val_loss: 0.7239 - val_acc: 0.8705\n",
      "Epoch 2/10\n",
      "1760/1760 [==============================] - 0s 137us/sample - loss: 0.3888 - acc: 0.9227 - val_loss: 0.1068 - val_acc: 0.9523\n",
      "Epoch 3/10\n",
      "1760/1760 [==============================] - 0s 122us/sample - loss: 0.0905 - acc: 0.9608 - val_loss: 0.1033 - val_acc: 0.9545\n",
      "Epoch 4/10\n",
      "1760/1760 [==============================] - 0s 131us/sample - loss: 0.0960 - acc: 0.9597 - val_loss: 0.1130 - val_acc: 0.9500\n",
      "Epoch 5/10\n",
      "1760/1760 [==============================] - 0s 129us/sample - loss: 0.0826 - acc: 0.9659 - val_loss: 0.1339 - val_acc: 0.9477\n",
      "Epoch 6/10\n",
      "1760/1760 [==============================] - 0s 141us/sample - loss: 0.0727 - acc: 0.9705 - val_loss: 0.1434 - val_acc: 0.9500\n",
      "Epoch 7/10\n",
      "1760/1760 [==============================] - 0s 133us/sample - loss: 0.0952 - acc: 0.9591 - val_loss: 0.1312 - val_acc: 0.9341\n",
      "Epoch 8/10\n",
      "1760/1760 [==============================] - 0s 130us/sample - loss: 0.0875 - acc: 0.9608 - val_loss: 0.1403 - val_acc: 0.9477\n",
      "Epoch 9/10\n",
      "1760/1760 [==============================] - 0s 162us/sample - loss: 0.0853 - acc: 0.9642 - val_loss: 0.1137 - val_acc: 0.9500\n",
      "Epoch 10/10\n",
      "1760/1760 [==============================] - 0s 149us/sample - loss: 0.0647 - acc: 0.9744 - val_loss: 0.1377 - val_acc: 0.9432\n",
      "Train on 1760 samples, validate on 440 samples\n",
      "Epoch 1/10\n",
      "1760/1760 [==============================] - 0s 126us/sample - loss: 0.0713 - acc: 0.9659 - val_loss: 0.1025 - val_acc: 0.9545\n",
      "Epoch 2/10\n",
      "1760/1760 [==============================] - 0s 131us/sample - loss: 0.0664 - acc: 0.9688 - val_loss: 0.1087 - val_acc: 0.9591\n",
      "Epoch 3/10\n",
      "1760/1760 [==============================] - 0s 142us/sample - loss: 0.0731 - acc: 0.9670 - val_loss: 0.1027 - val_acc: 0.9568\n",
      "Epoch 4/10\n",
      "1760/1760 [==============================] - 0s 135us/sample - loss: 0.0661 - acc: 0.9733 - val_loss: 0.0729 - val_acc: 0.9636\n",
      "Epoch 5/10\n",
      "1760/1760 [==============================] - 0s 132us/sample - loss: 0.0612 - acc: 0.9733 - val_loss: 0.0820 - val_acc: 0.9705\n",
      "Epoch 6/10\n",
      "1760/1760 [==============================] - 0s 139us/sample - loss: 0.0605 - acc: 0.9784 - val_loss: 0.0952 - val_acc: 0.9545\n",
      "Epoch 7/10\n",
      "1760/1760 [==============================] - 0s 143us/sample - loss: 0.0852 - acc: 0.9688 - val_loss: 0.1402 - val_acc: 0.9500\n",
      "Epoch 8/10\n",
      "1760/1760 [==============================] - 0s 130us/sample - loss: 0.0638 - acc: 0.9744 - val_loss: 0.0861 - val_acc: 0.9614\n",
      "Epoch 9/10\n",
      "1760/1760 [==============================] - 0s 143us/sample - loss: 0.0706 - acc: 0.9659 - val_loss: 0.0862 - val_acc: 0.9614\n",
      "Epoch 10/10\n",
      "1760/1760 [==============================] - 0s 136us/sample - loss: 0.0639 - acc: 0.9710 - val_loss: 0.0798 - val_acc: 0.9614\n",
      "Train on 1760 samples, validate on 440 samples\n",
      "Epoch 1/10\n",
      "1760/1760 [==============================] - 0s 129us/sample - loss: 0.0956 - acc: 0.9614 - val_loss: 0.2113 - val_acc: 0.9273\n",
      "Epoch 2/10\n",
      "1760/1760 [==============================] - 0s 121us/sample - loss: 0.0623 - acc: 0.9767 - val_loss: 0.1226 - val_acc: 0.9636\n",
      "Epoch 3/10\n",
      "1760/1760 [==============================] - 0s 123us/sample - loss: 0.0695 - acc: 0.9716 - val_loss: 0.1059 - val_acc: 0.9523\n",
      "Epoch 4/10\n",
      "1760/1760 [==============================] - 0s 154us/sample - loss: 0.0548 - acc: 0.9778 - val_loss: 0.0839 - val_acc: 0.9659\n",
      "Epoch 5/10\n",
      "1760/1760 [==============================] - 0s 122us/sample - loss: 0.0550 - acc: 0.9750 - val_loss: 0.0885 - val_acc: 0.9591\n",
      "Epoch 6/10\n",
      "1760/1760 [==============================] - 0s 129us/sample - loss: 0.0662 - acc: 0.9705 - val_loss: 0.0851 - val_acc: 0.9614\n",
      "Epoch 7/10\n",
      "1760/1760 [==============================] - 0s 125us/sample - loss: 0.0612 - acc: 0.9699 - val_loss: 0.1063 - val_acc: 0.9591\n",
      "Epoch 8/10\n"
     ]
    },
    {
     "name": "stdout",
     "output_type": "stream",
     "text": [
      "1760/1760 [==============================] - 0s 130us/sample - loss: 0.0573 - acc: 0.9750 - val_loss: 0.1098 - val_acc: 0.9614\n",
      "Epoch 9/10\n",
      "1760/1760 [==============================] - 0s 138us/sample - loss: 0.0582 - acc: 0.9756 - val_loss: 0.1209 - val_acc: 0.9500\n",
      "Epoch 10/10\n",
      "1760/1760 [==============================] - 0s 139us/sample - loss: 0.0603 - acc: 0.9773 - val_loss: 0.0699 - val_acc: 0.9682\n",
      "Train on 1760 samples, validate on 440 samples\n",
      "Epoch 1/10\n",
      "1760/1760 [==============================] - 0s 145us/sample - loss: 0.0651 - acc: 0.9727 - val_loss: 0.1170 - val_acc: 0.9591\n",
      "Epoch 2/10\n",
      "1760/1760 [==============================] - 0s 129us/sample - loss: 0.0726 - acc: 0.9676 - val_loss: 0.1231 - val_acc: 0.9568\n",
      "Epoch 3/10\n",
      "1760/1760 [==============================] - 0s 140us/sample - loss: 0.0853 - acc: 0.9636 - val_loss: 0.1129 - val_acc: 0.9545\n",
      "Epoch 4/10\n",
      "1760/1760 [==============================] - 0s 132us/sample - loss: 0.0752 - acc: 0.9676 - val_loss: 0.0820 - val_acc: 0.9682\n",
      "Epoch 5/10\n",
      "1760/1760 [==============================] - 0s 152us/sample - loss: 0.0680 - acc: 0.9676 - val_loss: 0.0849 - val_acc: 0.9614\n",
      "Epoch 6/10\n",
      "1760/1760 [==============================] - 0s 129us/sample - loss: 0.0841 - acc: 0.9608 - val_loss: 0.1682 - val_acc: 0.9273\n",
      "Epoch 7/10\n",
      "1760/1760 [==============================] - 0s 131us/sample - loss: 0.1320 - acc: 0.9506 - val_loss: 0.1062 - val_acc: 0.9659\n",
      "Epoch 8/10\n",
      "1760/1760 [==============================] - 0s 139us/sample - loss: 0.0581 - acc: 0.9761 - val_loss: 0.1102 - val_acc: 0.9636\n",
      "Epoch 9/10\n",
      "1760/1760 [==============================] - 0s 127us/sample - loss: 0.0538 - acc: 0.9750 - val_loss: 0.1040 - val_acc: 0.9591\n",
      "Epoch 10/10\n",
      "1760/1760 [==============================] - 0s 130us/sample - loss: 0.0550 - acc: 0.9727 - val_loss: 0.1399 - val_acc: 0.9591\n",
      "Train on 1760 samples, validate on 440 samples\n",
      "Epoch 1/10\n",
      "1760/1760 [==============================] - 0s 135us/sample - loss: 0.0592 - acc: 0.9756 - val_loss: 0.0957 - val_acc: 0.9568\n",
      "Epoch 2/10\n",
      "1760/1760 [==============================] - 0s 132us/sample - loss: 0.0737 - acc: 0.9693 - val_loss: 0.0984 - val_acc: 0.9614\n",
      "Epoch 3/10\n",
      "1760/1760 [==============================] - 0s 139us/sample - loss: 0.0629 - acc: 0.9733 - val_loss: 0.1536 - val_acc: 0.9545\n",
      "Epoch 4/10\n",
      "1760/1760 [==============================] - 0s 139us/sample - loss: 0.0579 - acc: 0.9744 - val_loss: 0.1121 - val_acc: 0.9614\n",
      "Epoch 5/10\n",
      "1760/1760 [==============================] - 0s 170us/sample - loss: 0.0605 - acc: 0.9722 - val_loss: 0.0783 - val_acc: 0.9659\n",
      "Epoch 6/10\n",
      "1760/1760 [==============================] - 0s 144us/sample - loss: 0.0497 - acc: 0.9778 - val_loss: 0.0731 - val_acc: 0.9636\n",
      "Epoch 7/10\n",
      "1760/1760 [==============================] - 0s 131us/sample - loss: 0.0532 - acc: 0.9767 - val_loss: 0.0799 - val_acc: 0.9568\n",
      "Epoch 8/10\n",
      "1760/1760 [==============================] - 0s 135us/sample - loss: 0.0553 - acc: 0.9756 - val_loss: 0.0734 - val_acc: 0.9727\n",
      "Epoch 9/10\n",
      "1760/1760 [==============================] - 0s 133us/sample - loss: 0.0524 - acc: 0.9767 - val_loss: 0.0823 - val_acc: 0.9591\n",
      "Epoch 10/10\n",
      "1760/1760 [==============================] - 0s 137us/sample - loss: 0.0608 - acc: 0.9733 - val_loss: 0.0824 - val_acc: 0.9682\n",
      "Train on 1760 samples, validate on 440 samples\n",
      "Epoch 1/10\n",
      "1760/1760 [==============================] - 0s 135us/sample - loss: 0.0477 - acc: 0.9778 - val_loss: 0.0877 - val_acc: 0.9636\n",
      "Epoch 2/10\n",
      "1760/1760 [==============================] - 0s 134us/sample - loss: 0.0489 - acc: 0.9778 - val_loss: 0.0822 - val_acc: 0.9727\n",
      "Epoch 3/10\n",
      "1760/1760 [==============================] - 0s 140us/sample - loss: 0.0483 - acc: 0.9784 - val_loss: 0.0986 - val_acc: 0.9705\n",
      "Epoch 4/10\n",
      "1760/1760 [==============================] - 0s 132us/sample - loss: 0.0595 - acc: 0.9761 - val_loss: 0.1175 - val_acc: 0.9591\n",
      "Epoch 5/10\n",
      "1760/1760 [==============================] - 0s 131us/sample - loss: 0.0488 - acc: 0.9773 - val_loss: 0.1027 - val_acc: 0.9591\n",
      "Epoch 6/10\n",
      "1760/1760 [==============================] - 0s 132us/sample - loss: 0.0548 - acc: 0.9744 - val_loss: 0.0655 - val_acc: 0.9705\n",
      "Epoch 7/10\n",
      "1760/1760 [==============================] - 0s 132us/sample - loss: 0.0545 - acc: 0.9744 - val_loss: 0.1052 - val_acc: 0.9614\n",
      "Epoch 8/10\n",
      "1760/1760 [==============================] - 0s 141us/sample - loss: 0.0887 - acc: 0.9665 - val_loss: 0.1140 - val_acc: 0.9568\n",
      "Epoch 9/10\n",
      "1760/1760 [==============================] - 0s 132us/sample - loss: 0.2399 - acc: 0.9466 - val_loss: 0.1175 - val_acc: 0.9591\n",
      "Epoch 10/10\n",
      "1760/1760 [==============================] - 0s 139us/sample - loss: 0.0654 - acc: 0.9722 - val_loss: 0.1194 - val_acc: 0.9545\n",
      "Train on 1760 samples, validate on 440 samples\n",
      "Epoch 1/10\n",
      "1760/1760 [==============================] - 0s 126us/sample - loss: 0.0568 - acc: 0.9773 - val_loss: 0.1110 - val_acc: 0.9523\n",
      "Epoch 2/10\n",
      "1760/1760 [==============================] - 0s 120us/sample - loss: 0.0566 - acc: 0.9784 - val_loss: 0.0919 - val_acc: 0.9659\n",
      "Epoch 3/10\n",
      "1760/1760 [==============================] - 0s 119us/sample - loss: 0.0523 - acc: 0.9773 - val_loss: 0.0796 - val_acc: 0.9705\n",
      "Epoch 4/10\n",
      "1760/1760 [==============================] - 0s 127us/sample - loss: 0.0458 - acc: 0.9818 - val_loss: 0.1080 - val_acc: 0.9659\n",
      "Epoch 5/10\n",
      "1760/1760 [==============================] - 0s 133us/sample - loss: 0.0499 - acc: 0.9790 - val_loss: 0.1055 - val_acc: 0.9659\n",
      "Epoch 6/10\n",
      "1760/1760 [==============================] - 0s 123us/sample - loss: 0.0729 - acc: 0.9733 - val_loss: 0.1240 - val_acc: 0.9591\n",
      "Epoch 7/10\n",
      "1760/1760 [==============================] - 0s 120us/sample - loss: 0.0565 - acc: 0.9778 - val_loss: 0.0996 - val_acc: 0.9659\n",
      "Epoch 8/10\n",
      "1760/1760 [==============================] - 0s 121us/sample - loss: 0.0472 - acc: 0.9812 - val_loss: 0.1715 - val_acc: 0.9614\n",
      "Epoch 9/10\n",
      "1760/1760 [==============================] - 0s 125us/sample - loss: 0.0823 - acc: 0.9659 - val_loss: 0.1197 - val_acc: 0.9523\n",
      "Epoch 10/10\n",
      "1760/1760 [==============================] - 0s 140us/sample - loss: 0.0499 - acc: 0.9761 - val_loss: 0.0962 - val_acc: 0.9682\n"
     ]
    }
   ],
   "source": [
    "#training our model\n",
    "#os.mkdir(\"AI_Based_Crop_Recommendation_System\")\n",
    "epochs = 10\n",
    "for i in range(epochs):\n",
    "    history = model.fit(x=X_train,y=y_train, batch_size=None, epochs=10, verbose=1,#validation_split=0.15)\n",
    "              validation_data=(X_test,y_test))\n",
    "    model.save(\"AI_Based_Crop_Recommendation_System/My_model_\"+str(i)+\".h5\")"
   ]
  },
  {
   "cell_type": "code",
   "execution_count": 54,
   "metadata": {},
   "outputs": [
    {
     "data": {
      "text/plain": [
       "Text(0.5, 1.0, 'Loss')"
      ]
     },
     "execution_count": 54,
     "metadata": {},
     "output_type": "execute_result"
    },
    {
     "data": {
      "image/png": "[encoded data removed]",
      "text/plain": [
       "<Figure size 432x288 with 1 Axes>"
      ]
     },
     "metadata": {
      "needs_background": "light"
     },
     "output_type": "display_data"
    }
   ],
   "source": [
    "# Plotting Epochs vs. Loss\n",
    "plt.plot(history.history['loss'])\n",
    "plt.plot(history.history['val_loss'])\n",
    "plt.xlabel('Epochs')\n",
    "plt.ylabel('Loss')\n",
    "plt.legend(['loss','val_loss'], loc='upper right')\n",
    "plt.title(\"Loss\")"
   ]
  },
  {
   "cell_type": "code",
   "execution_count": 55,
   "metadata": {},
   "outputs": [
    {
     "data": {
      "text/plain": [
       "Text(0.5, 1.0, 'Accuracy')"
      ]
     },
     "execution_count": 55,
     "metadata": {},
     "output_type": "execute_result"
    },
    {
     "data": {
      "image/png": "[encoded data removed]",
      "text/plain": [
       "<Figure size 432x288 with 1 Axes>"
      ]
     },
     "metadata": {
      "needs_background": "light"
     },
     "output_type": "display_data"
    }
   ],
   "source": [
    "# Plotting Epochs vs. Accuracy\n",
    "plt.plot(history.history['acc'])\n",
    "plt.plot(history.history['val_acc'])\n",
    "plt.xlabel('Epochs')\n",
    "plt.ylabel('Acc')\n",
    "plt.legend(['loss','val_acc'], loc='lower right')\n",
    "plt.title(\"Accuracy\")"
   ]
  },
  {
   "cell_type": "code",
   "execution_count": 56,
   "metadata": {},
   "outputs": [],
   "source": [
    "model = load_model(\"AI_Based_Crop_Recommendation_System/My_model_9.h5\")"
   ]
  },
  {
   "cell_type": "code",
   "execution_count": 57,
   "metadata": {},
   "outputs": [
    {
     "name": "stdout",
     "output_type": "stream",
     "text": [
      "440/440 [==============================] - 0s 600us/sample - loss: 0.0962 - acc: 0.9682\n"
     ]
    },
    {
     "data": {
      "text/plain": [
       "[0.09624365818771449, 0.9681818]"
      ]
     },
     "execution_count": 57,
     "metadata": {},
     "output_type": "execute_result"
    }
   ],
   "source": [
    "#Evaluating the model X_test and y_test\n",
    "model.evaluate(X_test,y_test)"
   ]
  },
  {
   "cell_type": "code",
   "execution_count": 58,
   "metadata": {
    "scrolled": true
   },
   "outputs": [
    {
     "data": {
      "text/plain": [
       "array([6.5219705e-11, 2.8690118e-11, 3.6892090e-21, 4.3545506e-14,\n",
       "       1.5312310e-19, 5.6144325e-12, 1.5445605e-07, 4.1965631e-08,\n",
       "       7.0832686e-16, 3.7472026e-15, 2.9311006e-14, 2.2301630e-05,\n",
       "       1.9174042e-17, 1.4175212e-05, 1.5674600e-07, 9.9993038e-01,\n",
       "       6.2975376e-09, 3.7053172e-09, 8.5522350e-13, 9.0681851e-11,\n",
       "       1.6196873e-13, 3.2836375e-05], dtype=float32)"
      ]
     },
     "execution_count": 58,
     "metadata": {},
     "output_type": "execute_result"
    }
   ],
   "source": [
    "#making predictions\n",
    "model.predict(X_test)[0]"
   ]
  },
  {
   "cell_type": "code",
   "execution_count": 59,
   "metadata": {},
   "outputs": [
    {
     "name": "stdout",
     "output_type": "stream",
     "text": [
      "Enter amount of nitrogen:\n",
      "23\n",
      "Enter the amount of potassium:\n",
      "43\n",
      "Enter the amount of Phosporos:\n",
      "54\n",
      "Enter the pH value:\n",
      "7.8\n",
      "Enter the amount of rainfall:\n",
      "400\n",
      "Enter the temperature:\n",
      "23\n",
      "Enter the humidity:\n",
      "30\n"
     ]
    }
   ],
   "source": [
    "#Enter the parameters to get Recommendation\n",
    "print(\"Enter amount of nitrogen:\")\n",
    "N = input()\n",
    "print(\"Enter the amount of potassium:\")\n",
    "K = input()\n",
    "print(\"Enter the amount of Phosporos:\")\n",
    "P = input()\n",
    "print(\"Enter the pH value:\")\n",
    "ph = input()\n",
    "print(\"Enter the amount of rainfall:\")\n",
    "rainfall = input()\n",
    "print(\"Enter the temperature:\")\n",
    "temperature = input()\n",
    "print(\"Enter the humidity:\")\n",
    "humidity = input()"
   ]
  },
  {
   "cell_type": "code",
   "execution_count": 60,
   "metadata": {},
   "outputs": [
    {
     "name": "stdout",
     "output_type": "stream",
     "text": [
      "Enter Season:\n",
      "1\n"
     ]
    }
   ],
   "source": [
    "print(\"Enter Season:\")\n",
    "season = input()\n",
    "#Note:- Kharif = 0, Rabi = 1, All season = 2"
   ]
  },
  {
   "cell_type": "code",
   "execution_count": 61,
   "metadata": {},
   "outputs": [
    {
     "data": {
      "text/plain": [
       "array([[ 23. ,  54. ,  43. ,  23. ,  30. ,   7.8, 400. ,   1. ]])"
      ]
     },
     "execution_count": 61,
     "metadata": {},
     "output_type": "execute_result"
    }
   ],
   "source": [
    "test_data = [N,P,K,temperature,humidity,ph,rainfall,season]\n",
    "test_data = np.array(test_data).reshape(1,-1)\n",
    "test_data.shape\n",
    "model = load_model(\"AI_Based_Crop_Recommendation_System/My_model_9.h5\")\n",
    "test_data = np.array(test_data).astype(float)\n",
    "test_data"
   ]
  },
  {
   "cell_type": "code",
   "execution_count": 62,
   "metadata": {},
   "outputs": [],
   "source": [
    "own_pred = model.predict(test_data)\n",
    "#own_pred = round(own_pred[0],2)\n",
    "#print(own_pred)\n",
    "#own_pred[0]"
   ]
  },
  {
   "cell_type": "code",
   "execution_count": 63,
   "metadata": {},
   "outputs": [
    {
     "name": "stdout",
     "output_type": "stream",
     "text": [
      "Recommended crop: pigeonpeas\n"
     ]
    }
   ],
   "source": [
    "crop_labels = ['banana','papaya','pomegranate','lentil','chickpea','blackgram','mango','mothbeans','maize','kidneybeans',   \n",
    "        'jute','rice','cotton','mungbean','watermelon','apple','coffee','muskmelon','orange','grapes','pigeonpeas','coconut']\n",
    "recommended = {}\n",
    "for i in range(22):\n",
    "    key = crop_labels[i]\n",
    "    value = own_pred[0][i]\n",
    "    recommended[key] = value\n",
    "recommended_crop = max(recommended, key=recommended.get)\n",
    "print(\"Recommended crop:\",recommended_crop)"
   ]
  },
  {
   "cell_type": "code",
   "execution_count": 25,
   "metadata": {},
   "outputs": [
    {
     "data": {
      "text/plain": [
       "((1760, 8), (1760,), (440, 8), (440,))"
      ]
     },
     "execution_count": 25,
     "metadata": {},
     "output_type": "execute_result"
    }
   ],
   "source": [
    "#now predicting other \n",
    "import pandas as pd\n",
    "import numpy as np\n",
    "\n",
    "df = pd.read_csv(\"FinalData.csv\")\n",
    "\n",
    "df['Season'] = df['Season'].map({\n",
    "    'Kharif':0,'Rabi':1,'All Seasons':2\n",
    "})\n",
    "\n",
    "X = df[['N', 'P', 'K', 'temperature', 'humidity', 'ph', 'rainfall','Season']]\n",
    "\n",
    "y = df['label']\n",
    "\n",
    "from sklearn.model_selection import train_test_split\n",
    "X_train, X_test, y_train, y_test = train_test_split(X, y, test_size=0.20, random_state=42)\n",
    "X_train.shape, y_train.shape, X_test.shape, y_test.shape"
   ]
  },
  {
   "cell_type": "code",
   "execution_count": 26,
   "metadata": {},
   "outputs": [],
   "source": [
    "acc = []\n",
    "model = []"
   ]
  },
  {
   "cell_type": "code",
   "execution_count": 27,
   "metadata": {},
   "outputs": [],
   "source": [
    "# Using Descion Tree Algorithm\n",
    "from sklearn.metrics import classification_report\n",
    "from sklearn import metrics"
   ]
  },
  {
   "cell_type": "code",
   "execution_count": 28,
   "metadata": {
    "scrolled": true
   },
   "outputs": [
    {
     "name": "stdout",
     "output_type": "stream",
     "text": [
      "DecisionTrees's Accuracy is:  93.18181818181817\n",
      "              precision    recall  f1-score   support\n",
      "\n",
      "       apple       1.00      1.00      1.00        23\n",
      "      banana       1.00      1.00      1.00        21\n",
      "   blackgram       1.00      1.00      1.00        20\n",
      "    chickpea       1.00      1.00      1.00        26\n",
      "     coconut       1.00      1.00      1.00        27\n",
      "      coffee       1.00      1.00      1.00        17\n",
      "      cotton       1.00      1.00      1.00        17\n",
      "      grapes       1.00      1.00      1.00        14\n",
      "        jute       0.00      0.00      0.00        23\n",
      " kidneybeans       1.00      1.00      1.00        20\n",
      "      lentil       0.61      1.00      0.76        11\n",
      "       maize       1.00      1.00      1.00        21\n",
      "       mango       1.00      1.00      1.00        19\n",
      "   mothbeans       1.00      0.71      0.83        24\n",
      "    mungbean       1.00      1.00      1.00        19\n",
      "   muskmelon       1.00      1.00      1.00        17\n",
      "      orange       1.00      1.00      1.00        14\n",
      "      papaya       1.00      1.00      1.00        23\n",
      "  pigeonpeas       1.00      1.00      1.00        23\n",
      " pomegranate       1.00      1.00      1.00        23\n",
      "        rice       0.45      1.00      0.62        19\n",
      "  watermelon       1.00      1.00      1.00        19\n",
      "\n",
      "    accuracy                           0.93       440\n",
      "   macro avg       0.91      0.94      0.92       440\n",
      "weighted avg       0.91      0.93      0.92       440\n",
      "\n"
     ]
    },
    {
     "name": "stderr",
     "output_type": "stream",
     "text": [
      "C:\\Users\\Harsh\\.conda\\envs\\tensorflow\\lib\\site-packages\\sklearn\\metrics\\_classification.py:1221: UndefinedMetricWarning: Precision and F-score are ill-defined and being set to 0.0 in labels with no predicted samples. Use `zero_division` parameter to control this behavior.\n",
      "  _warn_prf(average, modifier, msg_start, len(result))\n"
     ]
    }
   ],
   "source": [
    "# Using Descion Tree Algorithm\n",
    "from sklearn.tree import DecisionTreeClassifier\n",
    "\n",
    "DecisionTree = DecisionTreeClassifier(criterion=\"entropy\",random_state=2,max_depth=5)\n",
    "\n",
    "DecisionTree.fit(X_train,y_train)\n",
    "\n",
    "predicted_values = DecisionTree.predict(X_test)\n",
    "x = metrics.accuracy_score(y_test, predicted_values)\n",
    "acc.append(x)\n",
    "model.append('Decision Tree')\n",
    "print(\"DecisionTrees's Accuracy is: \", x*100)\n",
    "\n",
    "print(classification_report(y_test,predicted_values))"
   ]
  },
  {
   "cell_type": "code",
   "execution_count": 29,
   "metadata": {},
   "outputs": [
    {
     "name": "stdout",
     "output_type": "stream",
     "text": [
      "Naive Bayes's Accuracy is:  0.9954545454545455\n",
      "              precision    recall  f1-score   support\n",
      "\n",
      "       apple       1.00      1.00      1.00        23\n",
      "      banana       1.00      1.00      1.00        21\n",
      "   blackgram       1.00      1.00      1.00        20\n",
      "    chickpea       1.00      1.00      1.00        26\n",
      "     coconut       1.00      1.00      1.00        27\n",
      "      coffee       1.00      1.00      1.00        17\n",
      "      cotton       1.00      1.00      1.00        17\n",
      "      grapes       1.00      1.00      1.00        14\n",
      "        jute       0.92      1.00      0.96        23\n",
      " kidneybeans       1.00      1.00      1.00        20\n",
      "      lentil       1.00      1.00      1.00        11\n",
      "       maize       1.00      1.00      1.00        21\n",
      "       mango       1.00      1.00      1.00        19\n",
      "   mothbeans       1.00      1.00      1.00        24\n",
      "    mungbean       1.00      1.00      1.00        19\n",
      "   muskmelon       1.00      1.00      1.00        17\n",
      "      orange       1.00      1.00      1.00        14\n",
      "      papaya       1.00      1.00      1.00        23\n",
      "  pigeonpeas       1.00      1.00      1.00        23\n",
      " pomegranate       1.00      1.00      1.00        23\n",
      "        rice       1.00      0.89      0.94        19\n",
      "  watermelon       1.00      1.00      1.00        19\n",
      "\n",
      "    accuracy                           1.00       440\n",
      "   macro avg       1.00      1.00      1.00       440\n",
      "weighted avg       1.00      1.00      1.00       440\n",
      "\n"
     ]
    }
   ],
   "source": [
    "# Using Naive Bayes\n",
    "from sklearn.naive_bayes import GaussianNB\n",
    "\n",
    "NaiveBayes = GaussianNB()\n",
    "\n",
    "NaiveBayes.fit(X_train,y_train)\n",
    "\n",
    "predicted_values = NaiveBayes.predict(X_test)\n",
    "x = metrics.accuracy_score(y_test, predicted_values)\n",
    "acc.append(x)\n",
    "model.append('Naive Bayes')\n",
    "print(\"Naive Bayes's Accuracy is: \", x)\n",
    "\n",
    "print(classification_report(y_test,predicted_values))"
   ]
  },
  {
   "cell_type": "code",
   "execution_count": 30,
   "metadata": {},
   "outputs": [
    {
     "name": "stdout",
     "output_type": "stream",
     "text": [
      "Enter amount of nitrogen:\n",
      "23\n",
      "Enter the amount of potassium:\n",
      "43\n",
      "Enter the amount of Phosporos:\n",
      "45\n",
      "Enter the pH value:\n",
      "6.7\n",
      "Enter the amount of rainfall:\n",
      "400\n",
      "Enter the temperature:\n",
      "43\n",
      "Enter the huidity:\n",
      "400\n"
     ]
    }
   ],
   "source": [
    "#Enter the parameters to recommend your crop\n",
    "print(\"Enter amount of nitrogen:\")\n",
    "N = input()\n",
    "print(\"Enter the amount of potassium:\")\n",
    "K = input()\n",
    "print(\"Enter the amount of Phosporos:\")\n",
    "P = input()\n",
    "print(\"Enter the pH value:\")\n",
    "ph = input()\n",
    "print(\"Enter the amount of rainfall:\")\n",
    "rainfall = input()\n",
    "print(\"Enter the temperature:\")\n",
    "temperature = input()\n",
    "print(\"Enter the humidity:\")\n",
    "humidity = input()"
   ]
  },
  {
   "cell_type": "code",
   "execution_count": 31,
   "metadata": {},
   "outputs": [
    {
     "name": "stdout",
     "output_type": "stream",
     "text": [
      "Enter Season:\n",
      "2\n"
     ]
    }
   ],
   "source": [
    "#Enter Season for the crop\n",
    "print(\"Enter Season:\")\n",
    "season = input()\n",
    "#Note:- Kharif = 0, Rabi = 1, All season = 2"
   ]
  },
  {
   "cell_type": "code",
   "execution_count": 32,
   "metadata": {},
   "outputs": [],
   "source": [
    "test_data = [N,P,K,temperature,humidity,ph,rainfall,season]\n",
    "test_data = np.array(test_data).reshape(1,-1)\n",
    "test_data = np.array(test_data).astype(float)"
   ]
  },
  {
   "cell_type": "code",
   "execution_count": 33,
   "metadata": {},
   "outputs": [
    {
     "name": "stdout",
     "output_type": "stream",
     "text": [
      "Recommended crop: banana\n"
     ]
    }
   ],
   "source": [
    "own_pred = DecisionTree.predict(test_data)\n",
    "print(\"Recommended crop:\",own_pred[0])"
   ]
  },
  {
   "cell_type": "code",
   "execution_count": 34,
   "metadata": {},
   "outputs": [
    {
     "name": "stdout",
     "output_type": "stream",
     "text": [
      "Recommended Crop: banana\n"
     ]
    }
   ],
   "source": [
    "own_pred = NaiveBayes.predict(test_data)\n",
    "print(\"Recommended Crop:\",own_pred[0])"
   ]
  },
  {
   "cell_type": "code",
   "execution_count": null,
   "metadata": {},
   "outputs": [],
   "source": []
  }
 ],
 "metadata": {
  "kernelspec": {
   "display_name": "Python 3",
   "language": "python",
   "name": "python3"
  },
  "language_info": {
   "codemirror_mode": {
    "name": "ipython",
    "version": 3
   },
   "file_extension": ".py",
   "mimetype": "text/x-python",
   "name": "python",
   "nbconvert_exporter": "python",
   "pygments_lexer": "ipython3",
   "version": "3.7.7"
  }
 },
 "nbformat": 4,
 "nbformat_minor": 4
}
